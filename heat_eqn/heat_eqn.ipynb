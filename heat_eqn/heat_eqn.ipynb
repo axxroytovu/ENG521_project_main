{
 "cells": [
  {
   "cell_type": "code",
   "execution_count": null,
   "id": "5e98b26a",
   "metadata": {},
   "outputs": [],
   "source": [
    "import numpy as np\n",
    "import matplotlib.pyplot as plt\n"
   ]
  },
  {
   "cell_type": "code",
   "execution_count": null,
   "id": "64bf76db",
   "metadata": {},
   "outputs": [],
   "source": [
    "# Plate (2D)\n",
    "\n",
    "alpha = 110\n",
    "length = 50 # length of the plate, 50 mm\n",
    "time = 4 # total time, 4 s\n",
    "x_nodes = 30 # number of nodes - 1\n",
    "y_nodes = 20\n",
    "\n",
    "dx = length / x_nodes # distance between nodes\n",
    "dy = length / y_nodes # distance between nodes\n",
    "# time step, must be less or equal to than min of dx^2 / (4 * alpha) and dy^2 / (4 * alpha)\n",
    "dt = np.min([0.25 * dx**2 / alpha, 0.25 * dy**2 / alpha]) \n",
    "\n",
    "x_train = np.linspace(0, length, x_nodes)\n",
    "y_train = np.linspace(0, length, y_nodes)\n",
    "t_all = np.linspace(0, time, int(time / dt))\n",
    "train = len(t_all) // 2\n",
    "t_train = t_all[:train]\n",
    "t_test = t_all[train:]\n",
    "\n",
    "u = np.zeros((x_nodes, y_nodes)) + 20 # middle of the plate is 20 degrees\n",
    "# for i in range(len(u[0, :])): # top ranges from 20 to 78 degrees linearly\n",
    "#     u[0, i] = 20 + 3*i\n",
    "u[0, :] = 100 # bottom side of the plate is 100 degrees\n",
    "# u[-1, :] = 100 # top side of the plate is 100 degrees\n",
    "# u[:, 0] = 100 # left side of the plate is 100 degrees\n",
    "# u[:, -1] = 100 # right side of the plate is 100 degrees\n",
    "\n",
    "heat_data = np.zeros((int(time / dt), x_nodes, y_nodes))\n",
    "\n",
    "for counter in range(heat_data.shape[0]):\n",
    "    w = u.copy()\n",
    "\n",
    "    for i in range(1, x_nodes - 1):\n",
    "        for j in range(1, y_nodes - 1):\n",
    "            dd_ux = (w[i - 1, j] - 2 * w[i, j] + w[i + 1, j]) / dx**2\n",
    "            dd_uy = (w[i, j - 1] - 2 * w[i, j] + w[i, j + 1]) / dy**2\n",
    "\n",
    "            u[i, j] = dt * alpha * (dd_ux + dd_uy) + w[i, j]\n",
    "\n",
    "    heat_data[counter, :, :] = u.copy()\n",
    "\n",
    "    # print(f't: {counter * dt:.3f} s, Ave temp: {np.mean(u):.2f} C')\n",
    "\n",
    "print(heat_data.shape)"
   ]
  },
  {
   "cell_type": "code",
   "execution_count": null,
   "id": "a308003c",
   "metadata": {},
   "outputs": [],
   "source": [
    "samp_time = len(t_train) // 2 # plot the time in the middle of training\n",
    "\n",
    "fig, axis = plt.subplots()\n",
    "pcm = axis.pcolormesh(y_train, x_train, heat_data[samp_time, :, :], cmap='gist_rainbow', vmin=0, vmax=100)\n",
    "cbar = plt.colorbar(pcm, ax=axis)\n",
    "cbar.set_label('Temperature (°C)')\n",
    "axis.set_title(f'True Data\\n t: {samp_time*dt:.3f} s')\n",
    "plt.xlabel('y (mm)')\n",
    "plt.ylabel('x (mm)')\n",
    "plt.show()"
   ]
  },
  {
   "cell_type": "code",
   "execution_count": null,
   "id": "e894ecda",
   "metadata": {},
   "outputs": [],
   "source": [
    "import os\n",
    "import sys\n",
    "\n",
    "parent_dir = os.path.abspath('..')\n",
    "sys.path.append(parent_dir)\n",
    "\n",
    "from deep_learning import deep_network_core as core, utils\n",
    "import torch\n",
    "import torch.nn as nn\n",
    "from torch.autograd import grad as autograd"
   ]
  },
  {
   "cell_type": "code",
   "execution_count": null,
   "id": "feffd7e3",
   "metadata": {},
   "outputs": [],
   "source": [
    "# torch.manual_seed(1234)\n",
    "# np.random.seed(1234)\n",
    "\n",
    "Tr, Xr, Yr = np.meshgrid(t_train, x_train, y_train)\n",
    "\n",
    "inpt = np.column_stack((\n",
    "    Tr.transpose(1, 0, 2).ravel(), # Transpose needed to get in t, x, y order\n",
    "    Xr.transpose(1, 0, 2).ravel(), \n",
    "    Yr.transpose(1, 0, 2).ravel(),\n",
    "    ))\n",
    "oupt = heat_data[:train, :, :].ravel()"
   ]
  },
  {
   "cell_type": "code",
   "execution_count": null,
   "id": "53d71892",
   "metadata": {},
   "outputs": [],
   "source": [
    "class MSE_Loss(core.LOSS):\n",
    "    def __init__(self):\n",
    "        self.loss = nn.MSELoss()\n",
    "        \n",
    "    def __call__(self, target, result, model):\n",
    "        return self.loss(target, result)\n",
    "\n",
    "class Huber_Loss(core.LOSS):\n",
    "    def __init__(self):\n",
    "        self.loss = nn.HuberLoss()\n",
    "        \n",
    "    def __call__(self, target, result, model):\n",
    "        return self.loss(target, result)\n",
    "\n",
    "class PHYSICS_Loss(core.LOSS):\n",
    "    # def __init__(self, bounds):\n",
    "    #     self.bounds = bounds\n",
    "    \n",
    "    def __call__(self, target, result, model):\n",
    "        x = torch.empty((100, 1)).uniform_(0, length).requires_grad_(True)\n",
    "        y = torch.empty((100, 1)).uniform_(0, length).requires_grad_(True)\n",
    "        t = torch.empty((100, 1)).uniform_(0, time).requires_grad_(True)\n",
    "        inp = torch.cat((x, y, t), axis=1)\n",
    "        zs = model(inp)\n",
    "        pde = utils.dy_dt(zs, t) - utils.laplacian_2d(zs, x, y) # dz/dt - (ddz/dxx + ddz/dyy)\n",
    "        return torch.mean(pde**2)"
   ]
  },
  {
   "cell_type": "code",
   "execution_count": null,
   "id": "c49c57ed",
   "metadata": {},
   "outputs": [],
   "source": [
    "x = torch.empty((100, 1)).uniform_(0, length).requires_grad_(True)\n",
    "y = torch.empty((100, 1)).uniform_(0, length).requires_grad_(True)\n",
    "t = torch.empty((100, 1)).uniform_(0, time).requires_grad_(True)\n",
    "inp = torch.cat((x, y, t), axis=1)\n",
    "\n",
    "inp.shape"
   ]
  },
  {
   "cell_type": "code",
   "execution_count": null,
   "id": "9437ddde",
   "metadata": {},
   "outputs": [],
   "source": [
    "network_nn = core.PINN(3, 1, 64, 3, [(1, MSE_Loss())])"
   ]
  },
  {
   "cell_type": "code",
   "execution_count": null,
   "id": "b8142ed3",
   "metadata": {},
   "outputs": [],
   "source": [
    "print(\"Training NN\")\n",
    "network_nn.fit(inpt, oupt, lr=1e-3, epochs=1000)\n"
   ]
  },
  {
   "cell_type": "code",
   "execution_count": null,
   "id": "772e380a",
   "metadata": {},
   "outputs": [],
   "source": [
    "predicted = network_nn.predict(inpt).reshape((len(t_train), len(x_train), len(y_train)))\n",
    "\n",
    "fig, axis = plt.subplots()\n",
    "pcm = axis.pcolormesh(y_train, x_train, predicted[samp_time, :, :], cmap='gist_rainbow', vmin=0, vmax=100)\n",
    "cbar = plt.colorbar(pcm, ax=axis)\n",
    "cbar.set_label('Temperature (°C)')\n",
    "axis.set_title(f'Neural Net Trained\\n t: {samp_time*dt:.3f} s')\n",
    "plt.xlabel('y (mm)')\n",
    "plt.ylabel('x (mm)')\n",
    "plt.show()"
   ]
  },
  {
   "cell_type": "code",
   "execution_count": null,
   "id": "f423f166",
   "metadata": {},
   "outputs": [],
   "source": [
    "Tr_test, Xr_test, Yr_test = np.meshgrid(t_test, x_train, y_train)\n",
    "\n",
    "inpt_test = np.column_stack((\n",
    "    Tr_test.transpose(1, 0, 2).ravel(), # Transpose needed to get in t, x, y order\n",
    "    Xr_test.transpose(1, 0, 2).ravel(), \n",
    "    Yr_test.transpose(1, 0, 2).ravel(),\n",
    "    ))\n",
    "\n",
    "predicted_test = network_nn.predict(inpt_test).reshape((len(t_test), len(x_train), len(y_train)))\n",
    "\n",
    "fig, axis = plt.subplots()\n",
    "pcm = axis.pcolormesh(y_train, x_train, predicted_test[samp_time, :, :], cmap='gist_rainbow', vmin=0, vmax=100)\n",
    "cbar = plt.colorbar(pcm, ax=axis)\n",
    "cbar.set_label('Temperature (°C)')\n",
    "axis.set_title(f'Neural Net Extrapolation\\n t: {(samp_time+train)*dt:.3f} s')\n",
    "plt.xlabel('y (mm)')\n",
    "plt.ylabel('x (mm)')\n",
    "plt.show()"
   ]
  },
  {
   "cell_type": "code",
   "execution_count": null,
   "id": "1e900e0e",
   "metadata": {},
   "outputs": [],
   "source": [
    "network_pinn = core.PINN(3, 1, 64, 3, [(1, MSE_Loss()), (1, PHYSICS_Loss())])\n",
    "\n",
    "print(\"Training PINN\")\n",
    "network_pinn.fit(inpt, oupt, lr=1e-3, epochs=1000)"
   ]
  },
  {
   "cell_type": "code",
   "execution_count": null,
   "id": "226b62dd",
   "metadata": {},
   "outputs": [],
   "source": [
    "predicted = network_pinn.predict(inpt).reshape((len(t_train), len(x_train), len(y_train)))\n",
    "\n",
    "fig, axis = plt.subplots()\n",
    "pcm = axis.pcolormesh(y_train, x_train, predicted[samp_time, :, :], cmap='gist_rainbow', vmin=0, vmax=100)\n",
    "cbar = plt.colorbar(pcm, ax=axis)\n",
    "cbar.set_label('Temperature (°C)')\n",
    "axis.set_title(f'PINN Trained\\n t: {samp_time*dt:.3f} s')\n",
    "plt.xlabel('y (mm)')\n",
    "plt.ylabel('x (mm)')\n",
    "plt.show()"
   ]
  },
  {
   "cell_type": "code",
   "execution_count": null,
   "id": "2e87f5de",
   "metadata": {},
   "outputs": [],
   "source": [
    "predicted_test = network_pinn.predict(inpt_test).reshape((len(t_test), len(x_train), len(y_train)))\n",
    "\n",
    "fig, axis = plt.subplots()\n",
    "pcm = axis.pcolormesh(y_train, x_train, predicted[samp_time, :, :], cmap='gist_rainbow', vmin=0, vmax=100)\n",
    "cbar = plt.colorbar(pcm, ax=axis)\n",
    "cbar.set_label('Temperature (°C)')\n",
    "axis.set_title(f'PINN Extrapolation\\n t: {(samp_time+train)*dt:.3f} s')\n",
    "plt.xlabel('y (mm)')\n",
    "plt.ylabel('x (mm)')\n",
    "plt.show()"
   ]
  },
  {
   "cell_type": "code",
   "execution_count": null,
   "id": "53fd23cf",
   "metadata": {},
   "outputs": [],
   "source": [
    "fig, axis = plt.subplots()\n",
    "pcm = axis.pcolormesh(y_train, x_train, heat_data[(samp_time+train), :, :], cmap='gist_rainbow', vmin=0, vmax=100)\n",
    "cbar = plt.colorbar(pcm, ax=axis)\n",
    "cbar.set_label('Temperature (°C)')\n",
    "axis.set_title(f'True Data\\n t: {(samp_time+train)*dt:.3f} s')\n",
    "plt.xlabel('y (mm)')\n",
    "plt.ylabel('x (mm)')\n",
    "plt.show()"
   ]
  },
  {
   "cell_type": "code",
   "execution_count": null,
   "id": "4a662fe8",
   "metadata": {},
   "outputs": [],
   "source": [
    "network_dgm = core.DGM(3, 1, 64, 3, [(1, MSE_Loss())])\n",
    "print(\"Training DGM\")\n",
    "network_dgm.fit(inpt, oupt, lr=1e-3, epochs=1000)"
   ]
  },
  {
   "cell_type": "code",
   "execution_count": null,
   "id": "4fb643e2",
   "metadata": {},
   "outputs": [],
   "source": [
    "network_pi_dgm = core.DGM(3, 1, 64, 3, [(1, MSE_Loss()), (1, PHYSICS_Loss())])\n",
    "print(\"Training PI-DGM\")\n",
    "network_pi_dgm.fit(inpt, oupt, lr=1e-3, epochs=1000)"
   ]
  }
 ],
 "metadata": {
  "kernelspec": {
   "display_name": ".venv",
   "language": "python",
   "name": "python3"
  },
  "language_info": {
   "codemirror_mode": {
    "name": "ipython",
    "version": 3
   },
   "file_extension": ".py",
   "mimetype": "text/x-python",
   "name": "python",
   "nbconvert_exporter": "python",
   "pygments_lexer": "ipython3",
   "version": "3.11.9"
  }
 },
 "nbformat": 4,
 "nbformat_minor": 5
}
