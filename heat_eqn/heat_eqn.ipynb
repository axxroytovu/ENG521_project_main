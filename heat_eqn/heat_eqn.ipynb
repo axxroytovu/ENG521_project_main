{
 "cells": [
  {
   "cell_type": "code",
   "execution_count": null,
   "id": "5e98b26a",
   "metadata": {},
   "outputs": [],
   "source": [
    "import numpy as np\n",
    "import matplotlib.pyplot as plt\n",
    "import cmcrameri.cm as cmc\n",
    "from sklearn.metrics import mean_squared_error\n"
   ]
  },
  {
   "cell_type": "code",
   "execution_count": null,
   "id": "69ee97be",
   "metadata": {},
   "outputs": [],
   "source": [
    "# Create a discrete colormap with 5 colors (one for ground truth, and one for each network architecture)\n",
    "arch_names = ['g_true', 'FF', 'PI-FF', 'DGM', 'PI-DGM']\n",
    "batlow_colors = cmc.batlow(np.linspace(0, 1, len(arch_names)))\n",
    "\n",
    "# Create a custom palette dictionary mapping each class to a color\n",
    "custom_palette = {arch_name: batlow_colors[i] for i, arch_name in enumerate(arch_names)}"
   ]
  },
  {
   "cell_type": "code",
   "execution_count": null,
   "id": "64bf76db",
   "metadata": {},
   "outputs": [],
   "source": [
    "# Plate (2D)\n",
    "\n",
    "alpha = 55\n",
    "length = 50 # length of the plate, 50 mm\n",
    "time = 8 # total time, 4 s\n",
    "x_1_nodes = 30 # number of nodes - 1\n",
    "x_2_nodes = 20 # made this different so that I could tell which axis is which\n",
    "\n",
    "dx_1 = length / x_1_nodes # distance between nodes\n",
    "dx_2 = length / x_2_nodes # distance between nodes\n",
    "# time step, must be less or equal to than min of dx^2 / (4 * alpha) and dy^2 / (4 * alpha)\n",
    "dt = np.min([0.25 * dx_1**2 / alpha, 0.25 * dx_1**2 / alpha]) \n",
    "\n",
    "x_1_train = np.linspace(0, length, x_1_nodes)\n",
    "x_2_train = np.linspace(0, length, x_2_nodes)\n",
    "t_all = np.linspace(0, time, int(time / dt))\n",
    "train_low = len(t_all) // 8 # discard 1st 1/8th of time\n",
    "train_high = 2 * train_low \n",
    "t_train = t_all[train_low:train_high] # train on 2nd 1/8th of time\n",
    "t_test = t_all[train_high:]\n",
    "\n",
    "u = np.zeros((x_1_nodes, x_2_nodes)) + 20 # middle of the plate is 20 degrees\n",
    "# for i in range(len(u[0, :])): # bottom ranges from 20 to 78 degrees linearly\n",
    "#     u[0, i] = 20 + 3*i\n",
    "u[0, :] = 100 # bottom side of the plate is 100 degrees\n",
    "# u[-1, :] = 100 # top side of the plate is 100 degrees\n",
    "# u[:, 0] = 100 # left side of the plate is 100 degrees\n",
    "# u[:, -1] = 100 # right side of the plate is 100 degrees\n",
    "\n",
    "heat_data = np.zeros((int(time / dt), x_1_nodes, x_2_nodes))\n",
    "\n",
    "for counter in range(heat_data.shape[0]):\n",
    "    w = u.copy()\n",
    "\n",
    "    for i in range(1, x_1_nodes - 1):\n",
    "        for j in range(1, x_2_nodes - 1):\n",
    "            dd_ux_1 = (w[i - 1, j] - 2 * w[i, j] + w[i + 1, j]) / dx_1**2\n",
    "            dd_ux_2 = (w[i, j - 1] - 2 * w[i, j] + w[i, j + 1]) / dx_2**2\n",
    "\n",
    "            u[i, j] = dt * alpha * (dd_ux_1 + dd_ux_2) + w[i, j]\n",
    "\n",
    "    heat_data[counter, :, :] = u.copy()\n",
    "\n",
    "    # print(f't: {counter * dt:.2f} s, Ave temp: {np.mean(u):.2f} C')\n",
    "\n",
    "print(heat_data.shape)"
   ]
  },
  {
   "cell_type": "code",
   "execution_count": null,
   "id": "73e8c634",
   "metadata": {},
   "outputs": [],
   "source": [
    "def plot_heat_map(\n",
    "        title,\n",
    "        samp_time,\n",
    "        x_1,\n",
    "        x_2,\n",
    "        heat\n",
    "):\n",
    "    fig = plt.figure()\n",
    "    plt.title(f'{title}\\nt: {samp_time:.2f} s')\n",
    "    pcm = plt.pcolormesh(x_2, x_1, heat, cmap='cmc.batlow', vmin=0, vmax=100)\n",
    "    cbar = plt.colorbar(pcm)\n",
    "    cbar.set_label('Temperature (ºC)')\n",
    "    plt.xlabel('$x_{2}$ mm')\n",
    "    plt.ylabel('$x_{1}$ mm')\n",
    "    plt.show()\n"
   ]
  },
  {
   "cell_type": "code",
   "execution_count": null,
   "id": "a308003c",
   "metadata": {},
   "outputs": [],
   "source": [
    "samp_time = len(t_train) // 2 # plot the time in the middle of training\n",
    "\n",
    "plot_heat_map('Ground Truth', (len(t_all))*dt, x_1_train, x_2_train, heat_data[-1, :, :])\n"
   ]
  },
  {
   "cell_type": "code",
   "execution_count": null,
   "id": "e894ecda",
   "metadata": {},
   "outputs": [],
   "source": [
    "import os\n",
    "import sys\n",
    "\n",
    "parent_dir = os.path.abspath('..')\n",
    "sys.path.append(parent_dir)\n",
    "\n",
    "from deep_learning import deep_network_core as core, utils\n",
    "import torch\n",
    "import torch.nn as nn\n",
    "from torch.autograd import grad as autograd"
   ]
  },
  {
   "cell_type": "code",
   "execution_count": null,
   "id": "feffd7e3",
   "metadata": {},
   "outputs": [],
   "source": [
    "# Create meshgrids for train and test  \n",
    "Tr, X_1r, X_2r = np.meshgrid(t_train, x_1_train, x_2_train)\n",
    "\n",
    "inpt = np.column_stack((\n",
    "    Tr.transpose(1, 0, 2).ravel(), # Transpose needed to get in t, x, y order\n",
    "    X_1r.transpose(1, 0, 2).ravel(), \n",
    "    X_2r.transpose(1, 0, 2).ravel(),\n",
    "    ))\n",
    "oupt = heat_data[train_low:train_high, :, :].ravel()\n",
    "\n",
    "Tr_test, X_1r_test, X_2r_test = np.meshgrid(t_test, x_1_train, x_2_train)\n",
    "\n",
    "inpt_test = np.column_stack((\n",
    "    Tr_test.transpose(1, 0, 2).ravel(), # Transpose needed to get in t, x, y order\n",
    "    X_1r_test.transpose(1, 0, 2).ravel(), \n",
    "    X_2r_test.transpose(1, 0, 2).ravel(),\n",
    "    ))\n"
   ]
  },
  {
   "cell_type": "code",
   "execution_count": null,
   "id": "53d71892",
   "metadata": {},
   "outputs": [],
   "source": [
    "class MSE_Loss(core.LOSS):\n",
    "    def __init__(self):\n",
    "        self.loss = nn.MSELoss()\n",
    "        \n",
    "    def __call__(self, target, result, model):\n",
    "        return self.loss(target, result)\n",
    "\n",
    "class Huber_Loss(core.LOSS):\n",
    "    def __init__(self):\n",
    "        self.loss = nn.HuberLoss()\n",
    "        \n",
    "    def __call__(self, target, result, model):\n",
    "        return self.loss(target, result)\n",
    "\n",
    "class PHYSICS_Loss(core.LOSS):\n",
    "    def __init__(self, alpha):\n",
    "        self.alpha = alpha\n",
    "    \n",
    "    def __call__(self, target, result, model):\n",
    "        x_1 = torch.empty((100, 1)).uniform_(0, length).requires_grad_(True)\n",
    "        x_2 = torch.empty((100, 1)).uniform_(0, length).requires_grad_(True)\n",
    "        t = torch.empty((100, 1)).uniform_(train_low*dt, time).requires_grad_(True)\n",
    "        inp = torch.cat((t, x_1, x_2), axis=1)\n",
    "        zs = model(inp)\n",
    "        pde = utils.dy_dt(zs, t) - self.alpha * utils.laplacian_2d(zs, x_1, x_2) # dz/dt - (ddz/dx_1x_1 + ddz/dx_2x_2)\n",
    "        return torch.mean(pde**2)"
   ]
  },
  {
   "cell_type": "code",
   "execution_count": null,
   "id": "b8142ed3",
   "metadata": {},
   "outputs": [],
   "source": [
    "network_nn = core.PINN(3, 1, 64, 3, [(1, MSE_Loss())])\n",
    "\n",
    "print(\"Training FF No Physics\")\n",
    "network_nn.fit(inpt, oupt, lr=1e-3, epochs=1000)\n"
   ]
  },
  {
   "cell_type": "code",
   "execution_count": null,
   "id": "772e380a",
   "metadata": {},
   "outputs": [],
   "source": [
    "# Generate train and test data from the model for analysis and plotting\n",
    "pred_nn_train = network_nn.predict(inpt).reshape((len(t_train), len(x_1_train), len(x_2_train)))\n",
    "pred_nn_test = network_nn.predict(inpt_test).reshape((len(t_test), len(x_1_train), len(x_2_train)))\n",
    "\n",
    "plot_heat_map('Feed Forward No Physics', (len(t_all))*dt, x_1_train, x_2_train, pred_nn_test[-1, :, :])\n"
   ]
  },
  {
   "cell_type": "code",
   "execution_count": null,
   "id": "dd788085",
   "metadata": {},
   "outputs": [],
   "source": [
    "mses_nn_train = []\n",
    "for i, pred in enumerate(pred_nn_train):\n",
    "    mses_nn_train.append(mean_squared_error(heat_data[train_low+i, :, :], pred))\n",
    "\n",
    "mses_nn_test = []\n",
    "for i, pred in enumerate(pred_nn_test):\n",
    "    mses_nn_test.append(mean_squared_error(heat_data[train_high+i, :, :], pred))\n"
   ]
  },
  {
   "cell_type": "code",
   "execution_count": null,
   "id": "1e900e0e",
   "metadata": {},
   "outputs": [],
   "source": [
    "network_pinn = core.PINN(3, 1, 64, 3, [(1, MSE_Loss()), (1, PHYSICS_Loss(alpha))])\n",
    "\n",
    "print(\"Training Feed Forward with Physics\")\n",
    "network_pinn.fit(inpt, oupt, lr=1e-3, epochs=1000)"
   ]
  },
  {
   "cell_type": "code",
   "execution_count": null,
   "id": "226b62dd",
   "metadata": {},
   "outputs": [],
   "source": [
    "pred_pinn_train = network_pinn.predict(inpt).reshape((len(t_train), len(x_1_train), len(x_2_train)))\n",
    "pred_pinn_test = network_pinn.predict(inpt_test).reshape((len(t_test), len(x_1_train), len(x_2_train)))\n",
    "\n",
    "plot_heat_map('Feed Forward Physics', (len(t_all))*dt, x_1_train, x_2_train, pred_pinn_test[-1, :, :])\n"
   ]
  },
  {
   "cell_type": "code",
   "execution_count": null,
   "id": "88d723f2",
   "metadata": {},
   "outputs": [],
   "source": [
    "mses_pinn_train = []\n",
    "for i, pred in enumerate(pred_pinn_train):\n",
    "    mses_pinn_train.append(mean_squared_error(heat_data[i+train_low, :, :], pred))\n",
    "\n",
    "mses_pinn_test = []\n",
    "for i, pred in enumerate(pred_pinn_test):\n",
    "    mses_pinn_test.append(mean_squared_error(heat_data[train_high+i, :, :], pred))\n"
   ]
  },
  {
   "cell_type": "code",
   "execution_count": null,
   "id": "4a662fe8",
   "metadata": {},
   "outputs": [],
   "source": [
    "network_dgm = core.DGM(3, 1, 128, 4, [(1, MSE_Loss())])\n",
    "print(\"Training DGM without Physics\")\n",
    "network_dgm.fit(inpt, oupt, lr=1e-2, epochs=200)"
   ]
  },
  {
   "cell_type": "code",
   "execution_count": null,
   "id": "c0ca837a",
   "metadata": {},
   "outputs": [],
   "source": [
    "pred_dgm_train = network_dgm.predict(inpt).reshape((len(t_train), len(x_1_train), len(x_2_train)))\n",
    "pred_dgm_test = network_dgm.predict(inpt_test).reshape((len(t_test), len(x_1_train), len(x_2_train)))\n",
    "\n",
    "plot_heat_map('DGM No Physics', (len(t_all))*dt, x_1_train, x_2_train, pred_dgm_test[-1, :, :])\n"
   ]
  },
  {
   "cell_type": "code",
   "execution_count": null,
   "id": "1bb0eaf5",
   "metadata": {},
   "outputs": [],
   "source": [
    "\n",
    "mses_dgm_train = []\n",
    "for i, pred in enumerate(pred_dgm_train):\n",
    "    mses_dgm_train.append(mean_squared_error(heat_data[train_low+i, :, :], pred))\n",
    "\n",
    "mses_dgm_test = []\n",
    "for i, pred in enumerate(pred_dgm_test):\n",
    "    mses_dgm_test.append(mean_squared_error(heat_data[train_high+i, :, :], pred))\n"
   ]
  },
  {
   "cell_type": "code",
   "execution_count": null,
   "id": "4fb643e2",
   "metadata": {},
   "outputs": [],
   "source": [
    "network_pi_dgm = core.DGM(3, 1, 128, 4, [(1, MSE_Loss()), (1, PHYSICS_Loss(alpha))])\n",
    "print(\"Training DGM with Physics\")\n",
    "network_pi_dgm.fit(inpt, oupt, lr=1e-2, epochs=200)"
   ]
  },
  {
   "cell_type": "code",
   "execution_count": null,
   "id": "2bb53a49",
   "metadata": {},
   "outputs": [],
   "source": [
    "pred_pi_dgm_train = network_pi_dgm.predict(inpt).reshape((len(t_train), len(x_1_train), len(x_2_train)))\n",
    "pred_pi_dgm_test = network_pi_dgm.predict(inpt_test).reshape((len(t_test), len(x_1_train), len(x_2_train)))\n",
    "\n",
    "plot_heat_map('DGM Physics', (len(t_all))*dt, x_1_train, x_2_train, pred_pi_dgm_test[-1, :, :])\n",
    "\n"
   ]
  },
  {
   "cell_type": "code",
   "execution_count": null,
   "id": "3fd5a4d7",
   "metadata": {},
   "outputs": [],
   "source": [
    "mses_pi_dgm_train = []\n",
    "for i, pred in enumerate(pred_pi_dgm_train):\n",
    "    mses_pi_dgm_train.append(mean_squared_error(heat_data[train_low+i, :, :], pred))\n",
    "\n",
    "mses_pi_dgm_test = []\n",
    "for i, pred in enumerate(pred_pi_dgm_test):\n",
    "    mses_pi_dgm_test.append(mean_squared_error(heat_data[train_high+i, :, :], pred))\n"
   ]
  },
  {
   "cell_type": "code",
   "execution_count": null,
   "id": "d2c544e4",
   "metadata": {},
   "outputs": [],
   "source": [
    "plt.figure()\n",
    "plt.semilogy(t_train, mses_nn_train, '-', c=batlow_colors[1])\n",
    "plt.semilogy(t_train, mses_pinn_train, '-', c=batlow_colors[2])\n",
    "plt.semilogy(t_train, mses_dgm_train, '-', c=batlow_colors[3])\n",
    "plt.semilogy(t_train, mses_pi_dgm_train, '-', c=batlow_colors[4])\n",
    "plt.semilogy(t_test, mses_nn_test, '--', c=batlow_colors[1])\n",
    "plt.semilogy(t_test, mses_pinn_test, '--', c=batlow_colors[2])\n",
    "plt.semilogy(t_test, mses_dgm_test, '--', c=batlow_colors[3])\n",
    "plt.semilogy(t_test, mses_pi_dgm_test, '--', c=batlow_colors[4])\n",
    "plt.grid(True)\n",
    "plt.ylabel('Mean Squared Error')\n",
    "plt.xlabel('Time (s)')\n",
    "plt.title('Mean Squared Error for Each Time Step')\n",
    "plt.legend(['FF No Physics', 'FF Physics', 'DGM No Physics', 'DGM Physics'])\n",
    "plt.show()"
   ]
  },
  {
   "cell_type": "code",
   "execution_count": null,
   "id": "0d732e69",
   "metadata": {},
   "outputs": [],
   "source": [
    "# np.savez(\n",
    "#     'pred_values_alpha.npz', \n",
    "#     nn_train_data=pred_nn_train,\n",
    "#     nn_test_data=pred_nn_test,\n",
    "#     pinn_train_data=pred_pinn_train,\n",
    "#     pinn_test_data=pred_pinn_test,\n",
    "#     dgm_train_data=pred_dgm_train,\n",
    "#     dgm_test_data=pred_dgm_test,\n",
    "#     pi_dgm_train_data=pred_pi_dgm_train,\n",
    "#     pi_dgm_test_data=pred_pi_dgm_test,\n",
    "#     )"
   ]
  },
  {
   "cell_type": "code",
   "execution_count": null,
   "id": "f6ea835e",
   "metadata": {},
   "outputs": [],
   "source": [
    "# loaded = np.load('pred_values_alpha55_work.npz')\n",
    "# pred_nn_train = loaded['nn_train_data']\n",
    "# pred_nn_test = loaded['nn_test_data']\n",
    "# pred_pinn_train = loaded['pinn_train_data']\n",
    "# pred_pinn_test = loaded['pinn_test_data']\n",
    "# pred_dgm_train = loaded['dgm_train_data']\n",
    "# pred_dgm_test = loaded['dgm_test_data']\n",
    "# pred_pi_dgm_train = loaded['pi_dgm_train_data']\n",
    "# pred_pi_dgm_test = loaded['pi_dgm_test_data']\n"
   ]
  },
  {
   "cell_type": "code",
   "execution_count": null,
   "id": "9eaa9b07",
   "metadata": {},
   "outputs": [],
   "source": []
  }
 ],
 "metadata": {
  "kernelspec": {
   "display_name": ".venv",
   "language": "python",
   "name": "python3"
  },
  "language_info": {
   "codemirror_mode": {
    "name": "ipython",
    "version": 3
   },
   "file_extension": ".py",
   "mimetype": "text/x-python",
   "name": "python",
   "nbconvert_exporter": "python",
   "pygments_lexer": "ipython3",
   "version": "3.11.9"
  }
 },
 "nbformat": 4,
 "nbformat_minor": 5
}
