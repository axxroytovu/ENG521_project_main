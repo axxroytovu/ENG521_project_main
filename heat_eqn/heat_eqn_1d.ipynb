{
 "cells": [
  {
   "cell_type": "code",
   "execution_count": null,
   "id": "cc384813",
   "metadata": {},
   "outputs": [],
   "source": [
    "# Rod (1D)\n",
    "\n",
    "# Following this video: https://www.youtube.com/watch?v=CXOrkQs4WYo\n",
    "\n",
    "import numpy as np\n",
    "import matplotlib.pyplot as plt\n",
    "\n",
    "alpha = 110\n",
    "length = 50 # length of the rod, 50 mm\n",
    "time = 1 # total time, 10 s\n",
    "nodes = 20 # number of nodes - 1\n",
    "\n",
    "dx = length / nodes # distance between nodes\n",
    "dt = 0.2 * dx**2 / alpha # time step, must be less than dx^2 / (2 * alpha)\n",
    "\n",
    "x_train_1d = np.linspace(0, length, nodes)\n",
    "t_train_1d = np.linspace(0, time, int(time / dt))\n",
    "\n",
    "u = np.zeros(nodes) + 20 # middle of the rod is 20 degrees\n",
    "u[0] = 100 # left end of the rod is 100 degrees\n",
    "u[-1] = 0 # right end of the rod is 0 degrees\n",
    "\n",
    "heat_data_1d = np.zeros((int(time / dt), nodes))\n",
    "\n",
    "for counter in range(heat_data_1d.shape[0]):\n",
    "    w = u.copy()\n",
    "    heat_data_1d[counter, :] = u.copy()\n",
    "\n",
    "    for i in range(1, nodes - 1):\n",
    "        u[i] = dt * alpha * (w[i - 1] - 2 * w[i] + w[i + 1]) / dx**2 + w[i]\n",
    "    \n",
    "    \n",
    "\n",
    "    # print(f't: {counter * dt:.3f} s, Ave temp: {np.mean(u):.2f} C')\n",
    "\n",
    "# heat_data_scaled = (heat_data_1d - np.min(heat_data_1d))\n",
    "# heat_data_scaled = heat_data_scaled / np.max(heat_data_scaled)"
   ]
  },
  {
   "cell_type": "code",
   "execution_count": null,
   "id": "1df1ca95",
   "metadata": {},
   "outputs": [],
   "source": [
    "fig, axis = plt.subplots()\n",
    "pcm = axis.pcolormesh(x_train_1d, t_train_1d, heat_data_1d, cmap='gist_rainbow', vmin=0, vmax=100)\n",
    "cbar = plt.colorbar(pcm, ax=axis)\n",
    "cbar.set_label('Temperature')\n",
    "# axis.set_title(f't: {450*dt:.3f} s')\n",
    "plt.xlabel('x (mm)')\n",
    "plt.ylabel('t (s)')\n",
    "plt.show()"
   ]
  },
  {
   "cell_type": "code",
   "execution_count": null,
   "id": "e894ecda",
   "metadata": {},
   "outputs": [],
   "source": [
    "import os\n",
    "import sys\n",
    "\n",
    "parent_dir = os.path.abspath('..')\n",
    "sys.path.append(parent_dir)"
   ]
  },
  {
   "cell_type": "code",
   "execution_count": null,
   "id": "62b85d98",
   "metadata": {},
   "outputs": [],
   "source": [
    "from deep_learning import deep_network_core as core, utils\n",
    "import torch\n",
    "import torch.nn as nn\n",
    "from torch.autograd import grad as autograd"
   ]
  },
  {
   "cell_type": "code",
   "execution_count": null,
   "id": "05706688",
   "metadata": {},
   "outputs": [],
   "source": [
    "# torch.manual_seed(1234)\n",
    "# np.random.seed(1234)\n",
    "\n",
    "Tr_1d, Xr_1d = np.meshgrid(t_train_1d, x_train_1d)\n",
    "\n",
    "inpt_1d = np.column_stack((Tr_1d.T.ravel(), Xr_1d.T.ravel()))\n",
    "oupt_1d = heat_data_1d.ravel()\n"
   ]
  },
  {
   "cell_type": "code",
   "execution_count": null,
   "id": "ffa636e5",
   "metadata": {},
   "outputs": [],
   "source": [
    "inpt_1d.shape"
   ]
  },
  {
   "cell_type": "code",
   "execution_count": null,
   "id": "53d71892",
   "metadata": {},
   "outputs": [],
   "source": [
    "class MSE_Loss(core.LOSS):\n",
    "    def __init__(self):\n",
    "        self.loss = nn.MSELoss()\n",
    "        \n",
    "    def __call__(self, target, result, model):\n",
    "        return self.loss(target, result)\n",
    "\n",
    "class Huber_Loss(core.LOSS):\n",
    "    def __init__(self):\n",
    "        self.loss = nn.HuberLoss()\n",
    "        \n",
    "    def __call__(self, target, result, model):\n",
    "        return self.loss(target, result)\n",
    "\n",
    "class PHYSICS_Loss(core.LOSS):\n",
    "    # def __init__(self, bounds):\n",
    "    #     self.bounds = bounds\n",
    "    \n",
    "    def __call__(self, target, result, model):\n",
    "        x = torch.empty((100, 1)).uniform_(0, length).requires_grad_(True)\n",
    "        t = torch.empty((100, 1)).uniform_(0, time).requires_grad_(True)\n",
    "        inp = torch.cat((x, t), axis=1)\n",
    "        zs = model(inp)\n",
    "        pde = utils.dy_dt(zs, t) - utils.laplacian_1d(zs, x) # dz/dt - ddz/dxx\n",
    "        return torch.mean(pde**2)"
   ]
  },
  {
   "cell_type": "code",
   "execution_count": null,
   "id": "43034af9",
   "metadata": {},
   "outputs": [],
   "source": [
    "network_pinn_1d = core.PINN(2, 1, 128, 8, [(1, MSE_Loss()), (1, PHYSICS_Loss())])"
   ]
  },
  {
   "cell_type": "code",
   "execution_count": null,
   "id": "b8142ed3",
   "metadata": {},
   "outputs": [],
   "source": [
    "print(\"Training PINN\")\n",
    "network_pinn_1d.fit(inpt_1d, oupt_1d, lr=1e-4, epochs=6000)\n",
    "\n",
    "# Try a learning rate scheduler\n",
    "# Try Huber loss (a feature in PyTorch)\n",
    "# See if I can find someone else's PINN on the Heat Eqn"
   ]
  },
  {
   "cell_type": "code",
   "execution_count": null,
   "id": "c740fef5",
   "metadata": {},
   "outputs": [],
   "source": [
    "predicted = network_pinn_1d.predict(inpt_1d).reshape(heat_data_1d.shape)\n",
    "\n",
    "fig, axis = plt.subplots()\n",
    "pcm = axis.pcolormesh(x_train_1d, t_train_1d, predicted, cmap='gist_rainbow', vmin=0, vmax=100)\n",
    "cbar = plt.colorbar(pcm, ax=axis)\n",
    "cbar.set_label('Temperature (°C)')\n",
    "# axis.set_title(f't: {450*dt:.3f} s')\n",
    "plt.xlabel('x (mm)')\n",
    "plt.ylabel('t (s)')\n",
    "plt.show()"
   ]
  },
  {
   "cell_type": "code",
   "execution_count": null,
   "id": "4a662fe8",
   "metadata": {},
   "outputs": [],
   "source": [
    "network_dgm = core.DGM(2, 1, 128, 4, [(1, MSE_Loss()), (1, PHYSICS_Loss())])\n",
    "print(\"Training DGM\")\n",
    "network_dgm.fit(inpt_1d, oupt_1d, lr=1e-2, epochs=200)"
   ]
  },
  {
   "cell_type": "code",
   "execution_count": null,
   "id": "aee9cdef",
   "metadata": {},
   "outputs": [],
   "source": [
    "predicted = network_dgm.predict(inpt_1d).reshape(heat_data_1d.shape)\n",
    "\n",
    "fig, axis = plt.subplots()\n",
    "pcm = axis.pcolormesh(x_train_1d, t_train_1d, predicted, cmap='gist_rainbow', vmin=0, vmax=100)\n",
    "cbar = plt.colorbar(pcm, ax=axis)\n",
    "cbar.set_label('Temperature (°C)')\n",
    "# axis.set_title(f't: {450*dt:.3f} s')\n",
    "plt.xlabel('x (mm)')\n",
    "plt.ylabel('t (s)')\n",
    "plt.show()"
   ]
  },
  {
   "cell_type": "code",
   "execution_count": null,
   "id": "afa6a906",
   "metadata": {},
   "outputs": [],
   "source": []
  }
 ],
 "metadata": {
  "kernelspec": {
   "display_name": ".venv",
   "language": "python",
   "name": "python3"
  },
  "language_info": {
   "codemirror_mode": {
    "name": "ipython",
    "version": 3
   },
   "file_extension": ".py",
   "mimetype": "text/x-python",
   "name": "python",
   "nbconvert_exporter": "python",
   "pygments_lexer": "ipython3",
   "version": "3.11.9"
  }
 },
 "nbformat": 4,
 "nbformat_minor": 5
}
